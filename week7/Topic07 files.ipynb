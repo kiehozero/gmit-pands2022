{
 "cells": [
  {
   "cell_type": "markdown",
   "metadata": {},
   "source": [
    "# Files"
   ]
  },
  {
   "cell_type": "markdown",
   "metadata": {},
   "source": [
    "This Topic will cover\n",
    "- opening files in different modes\n",
    "- reading and writing to files \n",
    "- using different file formats\n",
    "\n",
    "I will cover ``pandas`` in a later topic. Pandas is very useful for reading and writing to excel files and manipulating data in a table format"
   ]
  },
  {
   "cell_type": "markdown",
   "metadata": {},
   "source": [
    "##### Before we start:\n",
    "You casn run a shell command in a notebook using !\n",
    "so to see what is in this directory in windows ``!dir`` in mac or linux ``!ls``\n",
    "\n",
    "There is also a \"magic command ``%ls`` that will work on all OS (``%pwd`` will show the present working directory)"
   ]
  },
  {
   "cell_type": "code",
   "execution_count": 44,
   "metadata": {},
   "outputs": [
    {
     "name": "stdout",
     "output_type": "stream",
     "text": [
      " Volume in drive C is OS\n",
      " Volume Serial Number is 2842-6AAD\n",
      "\n",
      " Directory of C:\\Users\\ABeatty\\Desktop\\pands2022\\jupyternotebooks\n",
      "\n",
      "27/02/2022  12:58    <DIR>          .\n",
      "27/02/2022  12:58    <DIR>          ..\n",
      "24/02/2022  15:56    <DIR>          .ipynb_checkpoints\n",
      "11/02/2022  11:32    <DIR>          fig\n",
      "27/02/2022  12:52                35 storeData.json\n",
      "15/02/2022  11:28            21,944 topic03-variables.ipynb\n",
      "11/02/2022  14:04            10,182 topic04-controlling the flow.ipynb\n",
      "15/02/2022  11:28            24,043 topic05-data structures.ipynb\n",
      "21/02/2022  20:58            31,797 Topic06-Defining-Functions.ipynb\n",
      "27/02/2022  12:58            14,352 Topic07 files.ipynb\n",
      "               6 File(s)        102,353 bytes\n",
      "               4 Dir(s)  149,930,385,408 bytes free\n"
     ]
    }
   ],
   "source": [
    "# this will run on all os\n",
    "%ls"
   ]
  },
  {
   "cell_type": "markdown",
   "metadata": {},
   "source": [
    "## Opening files\n",
    "\n",
    "Files should be opened with the ``with open( filename, mode) as f: `` command\n"
   ]
  },
  {
   "cell_type": "markdown",
   "metadata": {},
   "source": [
    "For example open a text file for writing (if you run this file it will create a file in the same directory as the notebook, you can run the dir/ls command above again and see if test.txt is there, before and after you run the ``open()`` )"
   ]
  },
  {
   "cell_type": "code",
   "execution_count": 45,
   "metadata": {},
   "outputs": [],
   "source": [
    "filename = \"test.txt\"\n",
    "with open(filename, 'wt') as f:\n",
    "    f.write(\"hello world\")"
   ]
  },
  {
   "cell_type": "markdown",
   "metadata": {},
   "source": [
    "This will take care of closing the file once the focus leaves the code block, even if an error occurs.\n",
    "\n",
    "the old was of just using the ``open()`` function is not advised\n",
    "\n",
    "```\n",
    "f = open(filename, 'wt')\n",
    "f.write(\"hello World\")\n",
    "f.close()\n",
    "```\n",
    "While the code above looks like it does the same as the ``with`` pattern, the file will not be closed if the ``f.write`` throws an error\n",
    "\n",
    "\n",
    "Once you have opened a file you can use the functions to read and write to the file (depending on the mode)\n",
    "\n",
    "| Function | Description |\n",
    "| ---------------: | :----------------------------- |\n",
    "| ``read()`` | Reads from the file, the amount of characters depends on the buffer size \n",
    "| ``readline()`` | Reads the next line from the file, returns blank if the end of file is reached, be aware that the string that this returns will have a \\n new line character in it \n",
    "| ``readlines()`` | Returns all the lines as a list \n",
    "| ``for l in f:`` | Or you can use this pattern to loop through all the lines of a file \n",
    "| ``write(data)`` | Writes data to the file \n",
    "| ``print(data, file = f)`` | Or you can use the print function\n",
    "| ``seek(offset)`` | Will move the file pointer along the file by offset number of bytes \n",
    "\n",
    "More information in the python documentation https://docs.python.org/3/library/functions.html#open\n",
    "\n",
    "Which of these functions you can call is dependant on what mode the file is opened in"
   ]
  },
  {
   "cell_type": "markdown",
   "metadata": {},
   "source": [
    "### The various modes in open()\n",
    "\n",
    "| Mode | Description |\n",
    "|---:|:---|\n",
    "| 'a' | Writes will append to an existing file (throws an error if the file does not exist |\n",
    "| 'r' | Read mode, can not write, (throws and error if the file does not exist |\n",
    "| 'r+' | Read and write to existing file (throws an error if the file does not exist |\n",
    "| 'w' | Write mode (no read) and create the file, this will delete the file if it already exists |\n",
    "| 'w+'| write and read and create the file, deleteing the old one |\n",
    "| 'x' | create the file, this will throw an error if the file already exists|\n",
    "\n",
    "#### type of file\n",
    "| letter | type of file |\n",
    "|---:|:---|\n",
    "| 't' | Text file |\n",
    "| 'b' | File with binary data (eg jpeg)\n",
    "\n",
    "\n"
   ]
  },
  {
   "cell_type": "markdown",
   "metadata": {},
   "source": [
    "### Some example\n",
    "\n",
    "Open the text file we created above and output its contents. It is a good idea to speciify whether the file is text or binary "
   ]
  },
  {
   "cell_type": "code",
   "execution_count": 24,
   "metadata": {},
   "outputs": [
    {
     "name": "stdout",
     "output_type": "stream",
     "text": [
      "hello world\n"
     ]
    }
   ],
   "source": [
    "with open('test.txt', 'rt') as f:\n",
    "    for line in f: # read each line, one at a time\n",
    "        print (line)\n",
    "    "
   ]
  },
  {
   "cell_type": "markdown",
   "metadata": {},
   "source": [
    "Try to open a file that does not exist in read write mode. (This throws an error"
   ]
  },
  {
   "cell_type": "code",
   "execution_count": 25,
   "metadata": {},
   "outputs": [
    {
     "ename": "FileNotFoundError",
     "evalue": "[Errno 2] No such file or directory: 'nofileofthisname.txt'",
     "output_type": "error",
     "traceback": [
      "\u001b[1;31m---------------------------------------------------------------------------\u001b[0m",
      "\u001b[1;31mFileNotFoundError\u001b[0m                         Traceback (most recent call last)",
      "\u001b[1;32m<ipython-input-25-95d589acb63e>\u001b[0m in \u001b[0;36m<module>\u001b[1;34m\u001b[0m\n\u001b[1;32m----> 1\u001b[1;33m \u001b[1;32mwith\u001b[0m \u001b[0mopen\u001b[0m\u001b[1;33m(\u001b[0m\u001b[1;34m'nofileofthisname.txt'\u001b[0m\u001b[1;33m,\u001b[0m \u001b[1;34m'r+t'\u001b[0m\u001b[1;33m)\u001b[0m \u001b[1;32mas\u001b[0m \u001b[0mf\u001b[0m\u001b[1;33m:\u001b[0m\u001b[1;33m\u001b[0m\u001b[1;33m\u001b[0m\u001b[0m\n\u001b[0m\u001b[0;32m      2\u001b[0m     \u001b[0mprint\u001b[0m \u001b[1;33m(\u001b[0m\u001b[0mf\u001b[0m\u001b[1;33m.\u001b[0m\u001b[0mread\u001b[0m\u001b[1;33m(\u001b[0m\u001b[1;33m)\u001b[0m\u001b[1;33m)\u001b[0m\u001b[1;33m\u001b[0m\u001b[1;33m\u001b[0m\u001b[0m\n",
      "\u001b[1;31mFileNotFoundError\u001b[0m: [Errno 2] No such file or directory: 'nofileofthisname.txt'"
     ]
    }
   ],
   "source": [
    "with open('nofileofthisname.txt', 'r+t') as f:\n",
    "    print (f.read())"
   ]
  },
  {
   "cell_type": "markdown",
   "metadata": {},
   "source": [
    "Lets over write the file we created, and see its new contents (it will be empty)"
   ]
  },
  {
   "cell_type": "code",
   "execution_count": 26,
   "metadata": {},
   "outputs": [
    {
     "name": "stdout",
     "output_type": "stream",
     "text": [
      "The file is now empty\n"
     ]
    }
   ],
   "source": [
    "with open('test.txt', 'w+t') as f:\n",
    "    for line in f:\n",
    "        print (line)\n",
    "    print (\"The file is now empty\")"
   ]
  },
  {
   "cell_type": "markdown",
   "metadata": {},
   "source": [
    "## The ``os`` module\n",
    "\n",
    "The ``os`` module is a built in module for Miscellaneous operating system interfaces.\n",
    "It  can be used for manipulating the file system, there are a lot of functions in it I will be only looking at a few. See references below\n",
    "\n",
    "### Deleting a file\n",
    "Use the os module and its ``remove()`` function.\n"
   ]
  },
  {
   "cell_type": "code",
   "execution_count": 1,
   "metadata": {},
   "outputs": [],
   "source": [
    "import os\n",
    "os.remove('test.txt')  # this will remove the test.txt file"
   ]
  },
  {
   "cell_type": "markdown",
   "metadata": {},
   "source": [
    "For directories use the ``rmdir()`` function (only on empty directories)\n",
    "```\n",
    "import os\n",
    "os.rmdir('directory_name') # removes an empty directory\n",
    "```"
   ]
  },
  {
   "cell_type": "markdown",
   "metadata": {},
   "source": [
    "### To check if a file exists \n",
    "use ``os.path.exists()``"
   ]
  },
  {
   "cell_type": "code",
   "execution_count": 28,
   "metadata": {},
   "outputs": [
    {
     "name": "stdout",
     "output_type": "stream",
     "text": [
      "test.txt does not exist do you want to create it?\n"
     ]
    }
   ],
   "source": [
    "# I am assuming that os is already imported\n",
    "filename = 'test.txt'\n",
    "if os.path.exists(filename):\n",
    "    print (filename, \"already exists\")\n",
    "else:\n",
    "    print(filename, \"does not exist do you want to create it?\")\n",
    "    "
   ]
  },
  {
   "cell_type": "markdown",
   "metadata": {},
   "source": [
    "More on this in realpython and the python documentation on ``os``"
   ]
  },
  {
   "cell_type": "markdown",
   "metadata": {},
   "source": [
    "## File Formats\n",
    "Files can have different format, Here are a few examples of different formats\n",
    "\n",
    "| Format | Description | Example |\n",
    "| --- | :--- | :--- |\n",
    "| text | Simple text format, easy for a human to read, not easy to parse the data from | The rain in spain falls mainly in the plain|\n",
    "| JSON | JavaScript Object Notation, very useful for passing and storing dictionary object | {\"weather\": {\"area\":\"spainish plain\", \"forcast\": \"rain\"}} |\n",
    "| CSV | comma seperated variables, useful for storing tables of data | spain, plain , rain |\n",
    "| TSV | Tab seperated variables same as CSV except with TABS | |\n",
    "| Pickle | A binary file format used for storing Python Objects (variables and functions | hard to read by humans |\n",
    "| XML | Extended markup language, used for storing data | ```<weather> <area> spainish plain </area> <forcast> rain </forcast> </weather>``` |\n",
    "| XSL | excel spreadsheet, this is in a binary fomat| hard to read by humans |\n",
    "\n",
    "There are many more formats.\n",
    "Python has packages (modules) that are designed to help you manipulate files in different formast eg\n",
    "\n",
    "`` import csv ``: For maniputating CSV and TSV files\n",
    "\n",
    "`` import json `` : For maniputating JSON files\n",
    "\n",
    "`` import pandas``: For excel spreadsheets and SQL database tables, this is very handy for data analysis, see week 10\n",
    "\n",
    "There are of course many more\n"
   ]
  },
  {
   "cell_type": "markdown",
   "metadata": {},
   "source": [
    "### JSON \n",
    "You will need the json module installed on your machine to run this (it comes with anaconda)\n",
    "Here are two scripts\n",
    "1. Saves a dict object to a file called storeData.json, Note: we open the file in write mode so the file will be created or overwriten each time we save\n",
    "2. reads the file and prints some of the data\n",
    "navigate to this directory and see what is in the storeData.json\n",
    "\n",
    "see references for more information on the JSON module"
   ]
  },
  {
   "cell_type": "code",
   "execution_count": 2,
   "metadata": {},
   "outputs": [],
   "source": [
    "import json\n",
    "\n",
    "electricBill = {\n",
    "    'name' : 'Andrew',\n",
    "    'amount' : '999'\n",
    "}\n",
    "\n",
    "with open(\"storeData.json\", \"wt\") as f:\n",
    "    json.dump(electricBill, f) # writes the dictionary object to the file as a JSON object\n",
    "\n"
   ]
  },
  {
   "cell_type": "code",
   "execution_count": 3,
   "metadata": {},
   "outputs": [
    {
     "name": "stdout",
     "output_type": "stream",
     "text": [
      "Andrew\n"
     ]
    }
   ],
   "source": [
    "# I am assuming that json has already been imported\n",
    "\n",
    "# assuming theat the file storedata exists and contains json\n",
    "with open(\"storeData.json\", \"rt\") as f:\n",
    "    readDict = json.load(f) # reads the file and converts the JSON object into a list of dictionary \n",
    "    print (readDict[\"name\"])"
   ]
  },
  {
   "cell_type": "markdown",
   "metadata": {},
   "source": [
    "### CSV\n",
    "You will need the csv module installed on your machine to run this (it comes with anaconda)\n",
    "\n",
    "csv files are slightly more compliated to manipulate, I have made a tutorial video, showing how you could extract an email domain from a list of email addresses stored in a csv file, see learnonline"
   ]
  },
  {
   "cell_type": "markdown",
   "metadata": {},
   "source": [
    "### References\n",
    "\n",
    "- W3schools on files : https://www.w3schools.com/python/python_file_handling.asp\n",
    "- realpython on file manipulation and the OS module: https://realpython.com/working-with-files-in-python/\n",
    "- python documentation : https://docs.python.org/3/library/os.html#files-and-directories\n"
   ]
  }
 ],
 "metadata": {
  "anaconda-cloud": {},
  "kernelspec": {
   "display_name": "Python 3",
   "language": "python",
   "name": "python3"
  },
  "language_info": {
   "codemirror_mode": {
    "name": "ipython",
    "version": 3
   },
   "file_extension": ".py",
   "mimetype": "text/x-python",
   "name": "python",
   "nbconvert_exporter": "python",
   "pygments_lexer": "ipython3",
   "version": "3.8.3"
  }
 },
 "nbformat": 4,
 "nbformat_minor": 1
}
